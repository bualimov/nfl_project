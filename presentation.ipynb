{
 "cells": [
  {
   "cell_type": "markdown",
   "metadata": {},
   "source": [
    "# Defensive Pre-Snap Entropy (DENT): Uncovering Hidden Patterns...\n",
    "In the National Football League, success and failure are often separated by mere inches and milliseconds. A quarterback's split-second decision, a defender's slight hesitation, or a receiver's single misstep can be the difference between a game-changing touchdown and a devastating turnover. As teams seek every possible competitive advantage, the pre-snap phase of each play presents a crucial window of opportunity where strategic decisions can dramatically impact the outcome. In a league where the margin between victory and defeat is razor-thin, understanding and optimizing pre-snap behavior could mean the difference between a drive-ending stop and a momentum-shifting score.\n",
    "<br/> <br/>\n",
    "Enter entropy – a fundamental concept from information theory that measures the degree of disorder or unpredictability in a system. By analyzing the spatial entropy of defensive players in the moments before the snap, we can quantify the apparent chaos or organization in their positioning. Our hypothesis is that defensive entropy serves as more than just a measure of randomness; it may be a key indicator of defensive effectiveness and play outcome. Higher entropy might suggest a defense successfully masking its intentions, while lower entropy could indicate a more predictable formation. Through this analysis, we aim to uncover whether pre-snap defensive entropy correlates with defensive success, potentially providing teams with a new metric for evaluating and optimizing their pre-snap strategies."
   ]
  },
  {
   "cell_type": "markdown",
   "metadata": {},
   "source": [
    "## Understanding Entropy: From Physics to Football\n",
    "### Physical Entropy\n",
    "In thermodynamics, entropy is a measure of the disorder or randomness within a system. Originally formulated by Rudolf Clausius and later expanded by Ludwig Boltzmann, entropy quantifies the number of possible microscopic arrangements (microstates) that could yield the observed macroscopic state of a system. A higher entropy indicates more disorder and more possible arrangements, while lower entropy suggests more order and fewer possible arrangements. The classic example is an ice cube melting into water – the highly ordered crystal structure of ice transforms into the more disordered liquid state, increasing entropy.\n",
    "\n",
    "### Measuring Player Entropy in Football\n",
    "In the context of NFL player tracking data, we can adapt these principles to quantify the spatial organization of defensive players before the snap. Our proposed entropy metric considers the following components:\n",
    "\n",
    "#### **Base Entropy Equation**\n",
    "The spatial entropy (S) for a defensive formation at any given moment can be calculated as:\n",
    "\n",
    "$$S = -\\sum(p_i \\cdot \\log_2(p_i))$$\n",
    "\n",
    "Where:\n",
    "-  S is the spatial entropy measured in bits\n",
    "-  p_i represents the probability of finding a defensive player in a particular spatial region\n",
    "-  The summation is taken over all defined regions of the field\n",
    "\n",
    "#### **Implementation Methodology**\n",
    "1. **Field Discretization:** We divide the defensive half of the field into a grid of 1-yard by 1-yard squares.\n",
    "2. **Player Position Probability:** For each frame, we calculate the probability density of defensive players across these grid squares.\n",
    "3. **Time Window:** We analyze the last 5 seconds before the snap, capturing the final defensice adjustments.\n"
   ]
  },
  {
   "cell_type": "markdown",
   "metadata": {},
   "source": [
    "#### **Additional Considerations**\n",
    "After careful consideration, we propose incorporating the following additional factors into our entropy calculation:\n",
    "\n",
    "1. **Player Orientation (θ):**\n",
    "- Rationale: A defender's facing direction significantly impacts their ability to react.\n",
    "- Modified term: &nbsp; &nbsp; $p_i(1 + w_\\theta \\cos(\\theta_{relative}))$\n",
    "\n",
    "where w_θ is a weighting factor and θ_relative is the angle relative to the ball.\n",
    "<br/> <br/>\n",
    "\n",
    "2. **Player Velocity (v):**\n",
    "- Rationale: Moving players create more uncertainty for the offense\n",
    "- Additional term: &nbsp; &nbsp; $w_v \\cdot \\frac{v}{v_{max}}$\n",
    "\n",
    "where w_v is a velocity weight factor and v_max is a normalization constant.\n",
    "\n",
    "Our enhanced entropy equation becomes:\n",
    "$$S = -\\sum(p_i \\cdot (1 + w_\\theta \\cdot \\cos(\\theta_{relative})) \\cdot (1 + w_v \\cdot \\frac{v}{v_{max}}) \\cdot \\log_2(p_i))$$\n",
    "\n",
    "#### **Why These Factors Matter**\n",
    "- **Position (x,y):** Forms the foundation of spatial entropy\n",
    "- **Orientation (θ):** A defender facing the wrong direction is less effective, regardless of position\n",
    "- **Velocity (v):** Moving defenders create more uncertainty and can mask their true coverage intentions\n",
    "\n",
    "We deliberately exclude acceleration from our calculations as it tends to be more noisy in tracking data and may not significantly contribute to pre-snap deception. The combination of position, orientation, and velocity provides a robust measure of defensive unpredictability without over-complicating the metric.\n",
    "\n"
   ]
  },
  {
   "cell_type": "markdown",
   "metadata": {},
   "source": [
    "#### **DENT Demonstration:**\n",
    "Below is a demonstration of the DENT metric applied to a sample play from the 2022 season. The plot shows the entropy values for *two* defensive player pre-snap.\n",
    "<p align=\"center\">\n",
    "  <br/>\n",
    "  <img src=\"combined_animation.gif\" alt=\"combined gif\" width=\"500\"/>\n",
    "  <br/>\n",
    "</p>\n"
   ]
  },
  {
   "cell_type": "markdown",
   "metadata": {},
   "source": []
  }
 ],
 "metadata": {
  "language_info": {
   "name": "python"
  }
 },
 "nbformat": 4,
 "nbformat_minor": 2
}
